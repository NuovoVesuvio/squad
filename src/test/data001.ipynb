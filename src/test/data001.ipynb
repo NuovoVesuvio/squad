{
 "cells": [
  {
   "cell_type": "code",
   "execution_count": 8,
   "metadata": {},
   "outputs": [],
   "source": [
    "import json\n",
    "import pandas as pd\n",
    "import numpy as np"
   ]
  },
  {
   "cell_type": "code",
   "execution_count": 9,
   "metadata": {},
   "outputs": [],
   "source": [
    "with open('/home/rnam/Documents/squad/data/train-v1.1.json') as f:\n",
    "    data = json.load(f)"
   ]
  },
  {
   "cell_type": "code",
   "execution_count": 10,
   "metadata": {},
   "outputs": [
    {
     "data": {
      "text/plain": [
       "[u'version', u'data']"
      ]
     },
     "execution_count": 10,
     "metadata": {},
     "output_type": "execute_result"
    }
   ],
   "source": [
    "data.keys()"
   ]
  },
  {
   "cell_type": "code",
   "execution_count": 11,
   "metadata": {},
   "outputs": [],
   "source": [
    "_data = data['data']"
   ]
  },
  {
   "cell_type": "code",
   "execution_count": 12,
   "metadata": {},
   "outputs": [
    {
     "data": {
      "text/plain": [
       "442"
      ]
     },
     "execution_count": 12,
     "metadata": {},
     "output_type": "execute_result"
    }
   ],
   "source": [
    "len(_data)"
   ]
  },
  {
   "cell_type": "code",
   "execution_count": 14,
   "metadata": {},
   "outputs": [
    {
     "data": {
      "text/plain": [
       "{u'context': u'Architecturally, the school has a Catholic character. Atop the Main Building\\'s gold dome is a golden statue of the Virgin Mary. Immediately in front of the Main Building and facing it, is a copper statue of Christ with arms upraised with the legend \"Venite Ad Me Omnes\". Next to the Main Building is the Basilica of the Sacred Heart. Immediately behind the basilica is the Grotto, a Marian place of prayer and reflection. It is a replica of the grotto at Lourdes, France where the Virgin Mary reputedly appeared to Saint Bernadette Soubirous in 1858. At the end of the main drive (and in a direct line that connects through 3 statues and the Gold Dome), is a simple, modern stone statue of Mary.',\n",
       " u'qas': [{u'answers': [{u'answer_start': 515,\n",
       "     u'text': u'Saint Bernadette Soubirous'}],\n",
       "   u'id': u'5733be284776f41900661182',\n",
       "   u'question': u'To whom did the Virgin Mary allegedly appear in 1858 in Lourdes France?'},\n",
       "  {u'answers': [{u'answer_start': 188, u'text': u'a copper statue of Christ'}],\n",
       "   u'id': u'5733be284776f4190066117f',\n",
       "   u'question': u'What is in front of the Notre Dame Main Building?'},\n",
       "  {u'answers': [{u'answer_start': 279, u'text': u'the Main Building'}],\n",
       "   u'id': u'5733be284776f41900661180',\n",
       "   u'question': u'The Basilica of the Sacred heart at Notre Dame is beside to which structure?'},\n",
       "  {u'answers': [{u'answer_start': 381,\n",
       "     u'text': u'a Marian place of prayer and reflection'}],\n",
       "   u'id': u'5733be284776f41900661181',\n",
       "   u'question': u'What is the Grotto at Notre Dame?'},\n",
       "  {u'answers': [{u'answer_start': 92,\n",
       "     u'text': u'a golden statue of the Virgin Mary'}],\n",
       "   u'id': u'5733be284776f4190066117e',\n",
       "   u'question': u'What sits on top of the Main Building at Notre Dame?'}]}"
      ]
     },
     "execution_count": 14,
     "metadata": {},
     "output_type": "execute_result"
    }
   ],
   "source": [
    "_data[0]['paragraphs'][0]"
   ]
  },
  {
   "cell_type": "code",
   "execution_count": null,
   "metadata": {},
   "outputs": [],
   "source": [
    "total = []\n",
    "for i, v in enumerate(_data[0]['paragraphs']):\n",
    "    contextidx = i\n",
    "    context = v['context']\n",
    "    qas = v['qas']\n",
    "    qid = v['id']\n",
    "    question = v['questions']"
   ]
  }
 ],
 "metadata": {
  "kernelspec": {
   "display_name": "Python 2",
   "language": "python",
   "name": "python2"
  },
  "language_info": {
   "codemirror_mode": {
    "name": "ipython",
    "version": 2
   },
   "file_extension": ".py",
   "mimetype": "text/x-python",
   "name": "python",
   "nbconvert_exporter": "python",
   "pygments_lexer": "ipython2",
   "version": "2.7.11"
  }
 },
 "nbformat": 4,
 "nbformat_minor": 1
}
