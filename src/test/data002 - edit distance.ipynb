{
 "cells": [
  {
   "cell_type": "code",
   "execution_count": 114,
   "metadata": {},
   "outputs": [],
   "source": [
    "import pandas as pd\n",
    "import numpy as np\n",
    "from spacy.en import English\n",
    "import editdistance\n",
    "\n",
    "pd.set_option('max_rows',500)\n",
    "pd.set_option('max_colWidth', 200)"
   ]
  },
  {
   "cell_type": "code",
   "execution_count": 2,
   "metadata": {},
   "outputs": [],
   "source": [
    "df = pd.read_pickle('/home/rnam/documents/squad/data/data_all.pkl')"
   ]
  },
  {
   "cell_type": "code",
   "execution_count": 3,
   "metadata": {},
   "outputs": [
    {
     "data": {
      "text/plain": [
       "Index(['article_id', 'article_title', 'context_id', 'context', 'question_id',\n",
       "       'question', 'answer_start', 'answer_text'],\n",
       "      dtype='object')"
      ]
     },
     "execution_count": 3,
     "metadata": {},
     "output_type": "execute_result"
    }
   ],
   "source": [
    "df.columns"
   ]
  },
  {
   "cell_type": "code",
   "execution_count": 6,
   "metadata": {},
   "outputs": [],
   "source": [
    "first_word = df.question.apply(lambda x: x.split()[0])"
   ]
  },
  {
   "cell_type": "code",
   "execution_count": 13,
   "metadata": {},
   "outputs": [
    {
     "data": {
      "text/plain": [
       "What    37321\n",
       "How      8084\n",
       "Who      8080\n",
       "When     5420\n",
       "In       4308\n",
       "Name: question, dtype: int64"
      ]
     },
     "execution_count": 13,
     "metadata": {},
     "output_type": "execute_result"
    }
   ],
   "source": [
    "first_word.value_counts().head()"
   ]
  },
  {
   "cell_type": "code",
   "execution_count": 14,
   "metadata": {},
   "outputs": [
    {
     "data": {
      "text/html": [
       "<div>\n",
       "<table border=\"1\" class=\"dataframe\">\n",
       "  <thead>\n",
       "    <tr style=\"text-align: right;\">\n",
       "      <th></th>\n",
       "      <th>article_id</th>\n",
       "      <th>article_title</th>\n",
       "      <th>context_id</th>\n",
       "      <th>context</th>\n",
       "      <th>question_id</th>\n",
       "      <th>question</th>\n",
       "      <th>answer_start</th>\n",
       "      <th>answer_text</th>\n",
       "    </tr>\n",
       "  </thead>\n",
       "  <tbody>\n",
       "    <tr>\n",
       "      <th>0</th>\n",
       "      <td>0</td>\n",
       "      <td>University_of_Notre_Dame</td>\n",
       "      <td>0</td>\n",
       "      <td>Architecturally, the school has a Catholic cha...</td>\n",
       "      <td>5733be284776f41900661182</td>\n",
       "      <td>To whom did the Virgin Mary allegedly appear i...</td>\n",
       "      <td>515</td>\n",
       "      <td>Saint Bernadette Soubirous</td>\n",
       "    </tr>\n",
       "    <tr>\n",
       "      <th>1</th>\n",
       "      <td>0</td>\n",
       "      <td>University_of_Notre_Dame</td>\n",
       "      <td>0</td>\n",
       "      <td>Architecturally, the school has a Catholic cha...</td>\n",
       "      <td>5733be284776f4190066117f</td>\n",
       "      <td>What is in front of the Notre Dame Main Building?</td>\n",
       "      <td>188</td>\n",
       "      <td>a copper statue of Christ</td>\n",
       "    </tr>\n",
       "    <tr>\n",
       "      <th>2</th>\n",
       "      <td>0</td>\n",
       "      <td>University_of_Notre_Dame</td>\n",
       "      <td>0</td>\n",
       "      <td>Architecturally, the school has a Catholic cha...</td>\n",
       "      <td>5733be284776f41900661180</td>\n",
       "      <td>The Basilica of the Sacred heart at Notre Dame...</td>\n",
       "      <td>279</td>\n",
       "      <td>the Main Building</td>\n",
       "    </tr>\n",
       "    <tr>\n",
       "      <th>3</th>\n",
       "      <td>0</td>\n",
       "      <td>University_of_Notre_Dame</td>\n",
       "      <td>0</td>\n",
       "      <td>Architecturally, the school has a Catholic cha...</td>\n",
       "      <td>5733be284776f41900661181</td>\n",
       "      <td>What is the Grotto at Notre Dame?</td>\n",
       "      <td>381</td>\n",
       "      <td>a Marian place of prayer and reflection</td>\n",
       "    </tr>\n",
       "    <tr>\n",
       "      <th>4</th>\n",
       "      <td>0</td>\n",
       "      <td>University_of_Notre_Dame</td>\n",
       "      <td>0</td>\n",
       "      <td>Architecturally, the school has a Catholic cha...</td>\n",
       "      <td>5733be284776f4190066117e</td>\n",
       "      <td>What sits on top of the Main Building at Notre...</td>\n",
       "      <td>92</td>\n",
       "      <td>a golden statue of the Virgin Mary</td>\n",
       "    </tr>\n",
       "  </tbody>\n",
       "</table>\n",
       "</div>"
      ],
      "text/plain": [
       "   article_id             article_title  context_id  \\\n",
       "0           0  University_of_Notre_Dame           0   \n",
       "1           0  University_of_Notre_Dame           0   \n",
       "2           0  University_of_Notre_Dame           0   \n",
       "3           0  University_of_Notre_Dame           0   \n",
       "4           0  University_of_Notre_Dame           0   \n",
       "\n",
       "                                             context  \\\n",
       "0  Architecturally, the school has a Catholic cha...   \n",
       "1  Architecturally, the school has a Catholic cha...   \n",
       "2  Architecturally, the school has a Catholic cha...   \n",
       "3  Architecturally, the school has a Catholic cha...   \n",
       "4  Architecturally, the school has a Catholic cha...   \n",
       "\n",
       "                question_id  \\\n",
       "0  5733be284776f41900661182   \n",
       "1  5733be284776f4190066117f   \n",
       "2  5733be284776f41900661180   \n",
       "3  5733be284776f41900661181   \n",
       "4  5733be284776f4190066117e   \n",
       "\n",
       "                                            question  answer_start  \\\n",
       "0  To whom did the Virgin Mary allegedly appear i...           515   \n",
       "1  What is in front of the Notre Dame Main Building?           188   \n",
       "2  The Basilica of the Sacred heart at Notre Dame...           279   \n",
       "3                  What is the Grotto at Notre Dame?           381   \n",
       "4  What sits on top of the Main Building at Notre...            92   \n",
       "\n",
       "                               answer_text  \n",
       "0               Saint Bernadette Soubirous  \n",
       "1                a copper statue of Christ  \n",
       "2                        the Main Building  \n",
       "3  a Marian place of prayer and reflection  \n",
       "4       a golden statue of the Virgin Mary  "
      ]
     },
     "execution_count": 14,
     "metadata": {},
     "output_type": "execute_result"
    }
   ],
   "source": [
    "df.head()"
   ]
  },
  {
   "cell_type": "markdown",
   "metadata": {},
   "source": [
    "### Context Table"
   ]
  },
  {
   "cell_type": "code",
   "execution_count": 56,
   "metadata": {},
   "outputs": [],
   "source": [
    "context = df[['article_id','context_id','context']].drop_duplicates()"
   ]
  },
  {
   "cell_type": "code",
   "execution_count": 57,
   "metadata": {},
   "outputs": [
    {
     "data": {
      "text/html": [
       "<div>\n",
       "<table border=\"1\" class=\"dataframe\">\n",
       "  <thead>\n",
       "    <tr style=\"text-align: right;\">\n",
       "      <th></th>\n",
       "      <th>article_id</th>\n",
       "      <th>context_id</th>\n",
       "      <th>context</th>\n",
       "    </tr>\n",
       "  </thead>\n",
       "  <tbody>\n",
       "    <tr>\n",
       "      <th>0</th>\n",
       "      <td>0</td>\n",
       "      <td>0</td>\n",
       "      <td>Architecturally, the school has a Catholic character. Atop the Main Building's gold dome is a golden statue of the Virgin Mary. Immediately in front of the Main Building and facing it, is a copper...</td>\n",
       "    </tr>\n",
       "    <tr>\n",
       "      <th>5</th>\n",
       "      <td>0</td>\n",
       "      <td>1</td>\n",
       "      <td>As at most other universities, Notre Dame's students run a number of news media outlets. The nine student-run outlets include three newspapers, both a radio and television station, and several mag...</td>\n",
       "    </tr>\n",
       "    <tr>\n",
       "      <th>10</th>\n",
       "      <td>0</td>\n",
       "      <td>2</td>\n",
       "      <td>The university is the major seat of the Congregation of Holy Cross (albeit not its official headquarters, which are in Rome). Its main seminary, Moreau Seminary, is located on the campus across St...</td>\n",
       "    </tr>\n",
       "    <tr>\n",
       "      <th>15</th>\n",
       "      <td>0</td>\n",
       "      <td>3</td>\n",
       "      <td>The College of Engineering was established in 1920, however, early courses in civil and mechanical engineering were a part of the College of Science since the 1870s. Today the college, housed in t...</td>\n",
       "    </tr>\n",
       "    <tr>\n",
       "      <th>20</th>\n",
       "      <td>0</td>\n",
       "      <td>4</td>\n",
       "      <td>All of Notre Dame's undergraduate students are a part of one of the five undergraduate colleges at the school or are in the First Year of Studies program. The First Year of Studies program was est...</td>\n",
       "    </tr>\n",
       "  </tbody>\n",
       "</table>\n",
       "</div>"
      ],
      "text/plain": [
       "    article_id  context_id  \\\n",
       "0            0           0   \n",
       "5            0           1   \n",
       "10           0           2   \n",
       "15           0           3   \n",
       "20           0           4   \n",
       "\n",
       "                                                                                                                                                                                                    context  \n",
       "0   Architecturally, the school has a Catholic character. Atop the Main Building's gold dome is a golden statue of the Virgin Mary. Immediately in front of the Main Building and facing it, is a copper...  \n",
       "5   As at most other universities, Notre Dame's students run a number of news media outlets. The nine student-run outlets include three newspapers, both a radio and television station, and several mag...  \n",
       "10  The university is the major seat of the Congregation of Holy Cross (albeit not its official headquarters, which are in Rome). Its main seminary, Moreau Seminary, is located on the campus across St...  \n",
       "15  The College of Engineering was established in 1920, however, early courses in civil and mechanical engineering were a part of the College of Science since the 1870s. Today the college, housed in t...  \n",
       "20  All of Notre Dame's undergraduate students are a part of one of the five undergraduate colleges at the school or are in the First Year of Studies program. The First Year of Studies program was est...  "
      ]
     },
     "execution_count": 57,
     "metadata": {},
     "output_type": "execute_result"
    }
   ],
   "source": [
    "context.head()"
   ]
  },
  {
   "cell_type": "markdown",
   "metadata": {},
   "source": [
    "### Break the context into sentences"
   ]
  },
  {
   "cell_type": "code",
   "execution_count": 31,
   "metadata": {},
   "outputs": [],
   "source": [
    "nlp = English()"
   ]
  },
  {
   "cell_type": "code",
   "execution_count": 58,
   "metadata": {},
   "outputs": [],
   "source": [
    "total = []\n",
    "for text in context.context.values:\n",
    "    sent0 = nlp(text)\n",
    "    total.append([sent1 for sent1 in sent0.sents])\n",
    "\n",
    "context['context_sentence'] = total"
   ]
  },
  {
   "cell_type": "code",
   "execution_count": 60,
   "metadata": {},
   "outputs": [
    {
     "data": {
      "text/plain": [
       "[Kathmandu Metropolitan City (KMC), in order to promote international relations has established an International Relations Secretariat (IRC).,\n",
       " KMC's first international relationship was established in 1975 with the city of Eugene, Oregon, United States.,\n",
       " This activity has been further enhanced by establishing formal relationships with 8 other cities: Motsumoto City of Japan, Rochester of the USA, Yangon (formerly Rangoon) of Myanmar, Xi'an of the People's Republic of China, Minsk of Belarus, and Pyongyang of the Democratic Republic of Korea.,\n",
       " KMC's constant endeavor is to enhance its interaction with SAARC countries, other International agencies and many other major cities of the world to achieve better urban management and developmental programs for Kathmandu.]"
      ]
     },
     "execution_count": 60,
     "metadata": {},
     "output_type": "execute_result"
    }
   ],
   "source": [
    "context.context_sentence.values[-1]"
   ]
  },
  {
   "cell_type": "markdown",
   "metadata": {},
   "source": [
    "### Tokenize and lemma the context sentence and question, then score them using edit distance"
   ]
  },
  {
   "cell_type": "code",
   "execution_count": 110,
   "metadata": {},
   "outputs": [],
   "source": [
    "# def vocabbuilder(list0, list1):\n",
    "#     vocab = {}\n",
    "#     for idx, word in enumerate(list0 + list1):\n",
    "#         if word in vocab:\n",
    "#             pass\n",
    "#         else:\n",
    "#             vocab[word] = idx\n",
    "#     return vocab"
   ]
  },
  {
   "cell_type": "code",
   "execution_count": 43,
   "metadata": {},
   "outputs": [],
   "source": [
    "test = context.context_sentence.values[0]"
   ]
  },
  {
   "cell_type": "code",
   "execution_count": null,
   "metadata": {},
   "outputs": [],
   "source": [
    "questions = df.question.values\n",
    "context_id = df.context_id.values\n",
    "article_id = df.article_id.values\n",
    "total = []\n",
    "sentence_min_edist = []\n",
    "for i, question in enumerate(questions):\n",
    "    context_index = context_id[i]\n",
    "    article_index = article_id[i]\n",
    "    sentences = context[(context.context_id==context_index) & (context.article_id==article_index)].context_sentence.values[0]\n",
    "    \n",
    "    score_keeper = 99999\n",
    "    scores = {}\n",
    "    for sidx, sentence in enumerate(sentences):\n",
    "        # -- lemma the tokens\n",
    "        question_nlp = nlp(question)\n",
    "        question_lemma = [k.lemma_ for k in question_nlp]\n",
    "        sentence_lemma = [j.lemma_ for j in sentence]\n",
    "        \n",
    "        # produce edit distance scores, key is the sentence index within the context (for each questions)\n",
    "        scores[sidx] = editdistance.eval(question_lemma, sentence_lemma)\n",
    "    total.append(scores)\n",
    "    min_score_key = min(scores, key=scores.get)\n",
    "    sentence_min_edist.append(sentences[min_score_key])\n",
    "\n",
    "df['question_context_edist'] = total\n",
    "df['context_min_edist'] = sentence_min_edist"
   ]
  },
  {
   "cell_type": "code",
   "execution_count": 117,
   "metadata": {},
   "outputs": [
    {
     "data": {
      "text/plain": [
       "[{0: 13, 1: 16, 2: 29, 3: 13, 4: 15, 5: 20, 6: 32}]"
      ]
     },
     "execution_count": 117,
     "metadata": {},
     "output_type": "execute_result"
    }
   ],
   "source": [
    "total"
   ]
  },
  {
   "cell_type": "code",
   "execution_count": null,
   "metadata": {},
   "outputs": [],
   "source": []
  },
  {
   "cell_type": "code",
   "execution_count": 121,
   "metadata": {},
   "outputs": [
    {
     "data": {
      "text/html": [
       "<div>\n",
       "<table border=\"1\" class=\"dataframe\">\n",
       "  <thead>\n",
       "    <tr style=\"text-align: right;\">\n",
       "      <th></th>\n",
       "      <th>question_context_edist</th>\n",
       "      <th>question</th>\n",
       "    </tr>\n",
       "  </thead>\n",
       "  <tbody>\n",
       "    <tr>\n",
       "      <th>0</th>\n",
       "      <td>{0: 13, 1: 16, 2: 29, 3: 13, 4: 15, 5: 20, 6: 32}</td>\n",
       "      <td>To whom did the Virgin Mary allegedly appear in 1858 in Lourdes France?</td>\n",
       "    </tr>\n",
       "    <tr>\n",
       "      <th>1</th>\n",
       "      <td>{0: 11, 1: 15, 2: 27, 3: 12, 4: 15, 5: 21, 6: 32}</td>\n",
       "      <td>What is in front of the Notre Dame Main Building?</td>\n",
       "    </tr>\n",
       "    <tr>\n",
       "      <th>2</th>\n",
       "      <td>{0: 14, 1: 15, 2: 27, 3: 14, 4: 14, 5: 21, 6: 30}</td>\n",
       "      <td>The Basilica of the Sacred heart at Notre Dame is beside to which structure?</td>\n",
       "    </tr>\n",
       "    <tr>\n",
       "      <th>3</th>\n",
       "      <td>{0: 8, 1: 15, 2: 28, 3: 11, 4: 13, 5: 20, 6: 33}</td>\n",
       "      <td>What is the Grotto at Notre Dame?</td>\n",
       "    </tr>\n",
       "    <tr>\n",
       "      <th>4</th>\n",
       "      <td>{0: 11, 1: 16, 2: 27, 3: 12, 4: 15, 5: 22, 6: 32}</td>\n",
       "      <td>What sits on top of the Main Building at Notre Dame?</td>\n",
       "    </tr>\n",
       "    <tr>\n",
       "      <th>5</th>\n",
       "      <td>{0: 16, 1: 23, 2: 29, 3: 19, 4: 10, 5: 31, 6: 26, 7: 23, 8: 24, 9: 19, 10: 20}</td>\n",
       "      <td>When did the Scholastic Magazine of Notre dame begin publishing?</td>\n",
       "    </tr>\n",
       "    <tr>\n",
       "      <th>6</th>\n",
       "      <td>{0: 16, 1: 23, 2: 30, 3: 19, 4: 10, 5: 32, 6: 26, 7: 24, 8: 25, 9: 18, 10: 20}</td>\n",
       "      <td>How often is Notre Dame's the Juggler published?</td>\n",
       "    </tr>\n",
       "    <tr>\n",
       "      <th>7</th>\n",
       "      <td>{0: 17, 1: 23, 2: 30, 3: 19, 4: 10, 5: 29, 6: 26, 7: 25, 8: 24, 9: 18, 10: 20}</td>\n",
       "      <td>What is the daily student paper at Notre Dame called?</td>\n",
       "    </tr>\n",
       "    <tr>\n",
       "      <th>8</th>\n",
       "      <td>{0: 17, 1: 22, 2: 31, 3: 19, 4: 10, 5: 31, 6: 26, 7: 25, 8: 24, 9: 19, 10: 20}</td>\n",
       "      <td>How many student news papers are found at Notre Dame?</td>\n",
       "    </tr>\n",
       "    <tr>\n",
       "      <th>9</th>\n",
       "      <td>{0: 18, 1: 23, 2: 29, 3: 19, 4: 14, 5: 31, 6: 26, 7: 23, 8: 23, 9: 19, 10: 19}</td>\n",
       "      <td>In what year did the student paper Common Sense begin publication at Notre Dame?</td>\n",
       "    </tr>\n",
       "  </tbody>\n",
       "</table>\n",
       "</div>"
      ],
      "text/plain": [
       "                                                           question_context_edist  \\\n",
       "0                               {0: 13, 1: 16, 2: 29, 3: 13, 4: 15, 5: 20, 6: 32}   \n",
       "1                               {0: 11, 1: 15, 2: 27, 3: 12, 4: 15, 5: 21, 6: 32}   \n",
       "2                               {0: 14, 1: 15, 2: 27, 3: 14, 4: 14, 5: 21, 6: 30}   \n",
       "3                                {0: 8, 1: 15, 2: 28, 3: 11, 4: 13, 5: 20, 6: 33}   \n",
       "4                               {0: 11, 1: 16, 2: 27, 3: 12, 4: 15, 5: 22, 6: 32}   \n",
       "5  {0: 16, 1: 23, 2: 29, 3: 19, 4: 10, 5: 31, 6: 26, 7: 23, 8: 24, 9: 19, 10: 20}   \n",
       "6  {0: 16, 1: 23, 2: 30, 3: 19, 4: 10, 5: 32, 6: 26, 7: 24, 8: 25, 9: 18, 10: 20}   \n",
       "7  {0: 17, 1: 23, 2: 30, 3: 19, 4: 10, 5: 29, 6: 26, 7: 25, 8: 24, 9: 18, 10: 20}   \n",
       "8  {0: 17, 1: 22, 2: 31, 3: 19, 4: 10, 5: 31, 6: 26, 7: 25, 8: 24, 9: 19, 10: 20}   \n",
       "9  {0: 18, 1: 23, 2: 29, 3: 19, 4: 14, 5: 31, 6: 26, 7: 23, 8: 23, 9: 19, 10: 19}   \n",
       "\n",
       "                                                                           question  \n",
       "0           To whom did the Virgin Mary allegedly appear in 1858 in Lourdes France?  \n",
       "1                                 What is in front of the Notre Dame Main Building?  \n",
       "2      The Basilica of the Sacred heart at Notre Dame is beside to which structure?  \n",
       "3                                                 What is the Grotto at Notre Dame?  \n",
       "4                              What sits on top of the Main Building at Notre Dame?  \n",
       "5                  When did the Scholastic Magazine of Notre dame begin publishing?  \n",
       "6                                  How often is Notre Dame's the Juggler published?  \n",
       "7                             What is the daily student paper at Notre Dame called?  \n",
       "8                             How many student news papers are found at Notre Dame?  \n",
       "9  In what year did the student paper Common Sense begin publication at Notre Dame?  "
      ]
     },
     "execution_count": 121,
     "metadata": {},
     "output_type": "execute_result"
    }
   ],
   "source": [
    "df[:10][['question_context_edist', 'question', 'context_min_edist']]"
   ]
  },
  {
   "cell_type": "code",
   "execution_count": 102,
   "metadata": {},
   "outputs": [
    {
     "name": "stdout",
     "output_type": "stream",
     "text": [
      "to To\n",
      "whom whom\n",
      "do did\n",
      "the the\n",
      "virgin Virgin\n",
      "mary Mary\n",
      "allegedly allegedly\n",
      "appear appear\n",
      "in in\n",
      "1858 1858\n",
      "in in\n",
      "lourdes Lourdes\n",
      "france France\n",
      "? ?\n"
     ]
    }
   ],
   "source": [
    "for k in question_nlp:\n",
    "    print(k.lemma_, k)"
   ]
  },
  {
   "cell_type": "code",
   "execution_count": 115,
   "metadata": {},
   "outputs": [
    {
     "data": {
      "text/plain": [
       "32"
      ]
     },
     "execution_count": 115,
     "metadata": {},
     "output_type": "execute_result"
    }
   ],
   "source": [
    "editdistance.eval(sentence_lemma, question_lemma)"
   ]
  },
  {
   "cell_type": "code",
   "execution_count": null,
   "metadata": {},
   "outputs": [],
   "source": []
  }
 ],
 "metadata": {
  "kernelspec": {
   "display_name": "Python 3",
   "language": "python",
   "name": "python3"
  },
  "language_info": {
   "codemirror_mode": {
    "name": "ipython",
    "version": 3
   },
   "file_extension": ".py",
   "mimetype": "text/x-python",
   "name": "python",
   "nbconvert_exporter": "python",
   "pygments_lexer": "ipython3",
   "version": "3.5.2"
  }
 },
 "nbformat": 4,
 "nbformat_minor": 2
}
