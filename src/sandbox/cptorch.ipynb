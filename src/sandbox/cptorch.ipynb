{
 "cells": [
  {
   "cell_type": "code",
   "execution_count": null,
   "metadata": {},
   "outputs": [],
   "source": [
    "import torch, pickle, sys\n",
    "from torch import nn\n",
    "import torch.optim as optim\n",
    "import torch.nn.functional as F\n",
    "from torch.autograd import Variable\n",
    "import numpy as np\n",
    "import pandas as pd"
   ]
  },
  {
   "cell_type": "code",
   "execution_count": null,
   "metadata": {},
   "outputs": [],
   "source": [
    "class RNN(nn.Module):\n",
    "    def __init__(self, input_size, hidden_size, output_size):\n",
    "        super(RNN, self).__init__()\n",
    "        self.hidden_size = hidden_size\n",
    "\n",
    "        self.i2h = nn.Linear(input_size + hidden_size, hidden_size)\n",
    "        self.i2o = nn.Linear(input_size + hidden_size, output_size)\n",
    "        self.o2o = nn.Linear(hidden_size + output_size, output_size)\n",
    "        self.dropout = nn.Dropout(0.1)\n",
    "        self.softmax = nn.LogSoftmax()\n",
    "\n",
    "    def forward(self, input, hidden):\n",
    "        input_combined = torch.cat((input, hidden), 1)\n",
    "        hidden = self.i2h(input_combined)\n",
    "        output = self.i2o(input_combined)\n",
    "        output_combined = torch.cat((hidden, output), 1)\n",
    "        output = self.o2o(output_combined)\n",
    "        output = self.dropout(output)\n",
    "        output = self.softmax(output)\n",
    "        return output, hidden\n",
    "\n",
    "    def initHidden(self):\n",
    "        return Variable(torch.from_numpy(np.random.uniform(low=-0.001, high=0.001, size=(1,self.hidden_size))).float())\n",
    "#         return Variable(torch.zeros(1, self.hidden_size))"
   ]
  },
  {
   "cell_type": "code",
   "execution_count": null,
   "metadata": {
    "collapsed": true
   },
   "outputs": [],
   "source": [
    "# -- import embeddings\n",
    "with open('../../data/lemmas_embeddings.pickle', 'rb') as f:\n",
    "    data = pickle.load(f)"
   ]
  },
  {
   "cell_type": "code",
   "execution_count": null,
   "metadata": {},
   "outputs": [],
   "source": [
    "data.keys()"
   ]
  },
  {
   "cell_type": "code",
   "execution_count": null,
   "metadata": {},
   "outputs": [],
   "source": [
    "embeddings = data['embeddings'].astype(np.float32)\n",
    "vocab = data['vocab']\n",
    "reverse = {v:k for k,v in vocab.items()}\n",
    "len(vocab)"
   ]
  },
  {
   "cell_type": "code",
   "execution_count": null,
   "metadata": {},
   "outputs": [],
   "source": [
    "# -- load lemma text\n",
    "with open('../../data/lemmas.pickle', 'rb') as g:\n",
    "    lemma = pickle.load(g)"
   ]
  },
  {
   "cell_type": "code",
   "execution_count": null,
   "metadata": {
    "collapsed": true
   },
   "outputs": [],
   "source": [
    "embedding_size = 100\n",
    "hidden_dim = 100\n",
    "rnn = RNN(embedding_size, hidden_dim, len(vocab)).cuda()\n",
    "criterion = nn.CrossEntropyLoss() # use a Classification Cross-Entropy loss\n",
    "optimizer = optim.SGD(rnn.parameters(), lr=0.0001, momentum=0.02, weight_decay=0.2)\n",
    "# learning_rate = 0.00005"
   ]
  },
  {
   "cell_type": "code",
   "execution_count": null,
   "metadata": {},
   "outputs": [],
   "source": [
    "for idx, sentence in enumerate(lemma):\n",
    "    if len(sentence) > 1:\n",
    "        hidden = rnn.initHidden()\n",
    "        loss = 0.0\n",
    "        for i in range(len(sentence) - 1):\n",
    "            try: # -- get rid of digits in vocab\n",
    "                current_word = sentence[i]\n",
    "                current_index = vocab[current_word]\n",
    "                current_embedding = torch.from_numpy(embeddings[current_index]).unsqueeze(0)\n",
    "                vembedding = Variable(current_embedding).cuda()\n",
    "                next_word = torch.from_numpy(np.array([vocab[sentence[i+1]]]))\n",
    "                output, hidden = rnn(vembedding, hidden.cuda())\n",
    "                loss += criterion(output, Variable(next_word).cuda())\n",
    "\n",
    "            except KeyError as e:\n",
    "                pass\n",
    "\n",
    "        loss.backward()\n",
    "        optimizer.step()\n",
    "        print(idx)"
   ]
  },
  {
   "cell_type": "code",
   "execution_count": null,
   "metadata": {},
   "outputs": [],
   "source": [
    "for i in range(10):\n",
    "    hidden = rnn.initHidden()\n",
    "    if i == 0:\n",
    "        word = 'b'\n",
    "        next_word = torch.from_numpy(embeddings[vocab[word]]).unsqueeze(0)\n",
    "    print(word)\n",
    "    _output, _hidden = rnn(Variable(next_word).cuda(), hidden.cuda())\n",
    "    probs = np.exp(phat.data.cpu().numpy().ravel())\n",
    "    amax = np.argmax(probs)\n",
    "    word = reverse[amax]\n",
    "    next_word = torch.from_numpy(embeddings[vocab[word]]).unsqueeze(0)"
   ]
  },
  {
   "cell_type": "code",
   "execution_count": null,
   "metadata": {},
   "outputs": [],
   "source": [
    "i"
   ]
  },
  {
   "cell_type": "code",
   "execution_count": null,
   "metadata": {},
   "outputs": [],
   "source": []
  },
  {
   "cell_type": "code",
   "execution_count": null,
   "metadata": {},
   "outputs": [],
   "source": [
    "h"
   ]
  },
  {
   "cell_type": "code",
   "execution_count": null,
   "metadata": {},
   "outputs": [],
   "source": []
  }
 ],
 "metadata": {
  "kernelspec": {
   "display_name": "Python 3",
   "language": "python",
   "name": "python3"
  },
  "language_info": {
   "codemirror_mode": {
    "name": "ipython",
    "version": 3
   },
   "file_extension": ".py",
   "mimetype": "text/x-python",
   "name": "python",
   "nbconvert_exporter": "python",
   "pygments_lexer": "ipython3",
   "version": "3.5.2"
  }
 },
 "nbformat": 4,
 "nbformat_minor": 2
}
