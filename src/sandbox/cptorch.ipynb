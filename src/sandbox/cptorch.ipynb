{
 "cells": [
  {
   "cell_type": "code",
   "execution_count": 4,
   "metadata": {},
   "outputs": [],
   "source": [
    "import torch, pickle\n",
    "from torch import nn\n",
    "import torch.optim as optim\n",
    "import torch.nn.functional as F\n",
    "from torch.autograd import Variable\n",
    "import numpy as np\n",
    "import pandas as pd\n",
    "from gensim.models import Word2Vec"
   ]
  },
  {
   "cell_type": "code",
   "execution_count": 11,
   "metadata": {},
   "outputs": [],
   "source": [
    "class RNN(nn.Module):\n",
    "    def __init__(self, input_size, hidden_size, output_size):\n",
    "        super(RNN, self).__init__()\n",
    "        self.hidden_size = hidden_size\n",
    "\n",
    "        self.i2h = nn.Linear(input_size + hidden_size, hidden_size)\n",
    "        self.i2o = nn.Linear(input_size + hidden_size, output_size)\n",
    "        self.o2o = nn.Linear(hidden_size + output_size, output_size)\n",
    "        self.dropout = nn.Dropout(0.1)\n",
    "        self.softmax = nn.LogSoftmax()\n",
    "\n",
    "    def forward(self, input, hidden):\n",
    "        input_combined = torch.cat((input, hidden), 1)\n",
    "        hidden = self.i2h(input_combined)\n",
    "        output = self.i2o(input_combined)\n",
    "        output_combined = torch.cat((hidden, output), 1)\n",
    "        output = self.o2o(output_combined)\n",
    "        output = self.dropout(output)\n",
    "        output = self.softmax(output)\n",
    "        return output, hidden\n",
    "\n",
    "    def initHidden(self):\n",
    "        return Variable(torch.zeros(1, self.hidden_size))"
   ]
  },
  {
   "cell_type": "code",
   "execution_count": 5,
   "metadata": {
    "collapsed": true
   },
   "outputs": [],
   "source": [
    "# -- import embeddings\n",
    "with open('../../data/lemmas_embeddings.pickle', 'rb') as f:\n",
    "    data = pickle.load(f)"
   ]
  },
  {
   "cell_type": "code",
   "execution_count": 6,
   "metadata": {},
   "outputs": [
    {
     "data": {
      "text/plain": [
       "dict_keys(['embeddings', 'vocab'])"
      ]
     },
     "execution_count": 6,
     "metadata": {},
     "output_type": "execute_result"
    }
   ],
   "source": [
    "data.keys()"
   ]
  },
  {
   "cell_type": "code",
   "execution_count": 66,
   "metadata": {},
   "outputs": [],
   "source": [
    "embeddings = data['embeddings'].astype(np.float32)\n",
    "vocab = data['vocab']"
   ]
  },
  {
   "cell_type": "code",
   "execution_count": 12,
   "metadata": {},
   "outputs": [],
   "source": [
    "# -- load lemma text\n",
    "with open('../../data/lemmas.pickle', 'rb') as g:\n",
    "    lemma = pickle.load(g)"
   ]
  },
  {
   "cell_type": "code",
   "execution_count": 14,
   "metadata": {},
   "outputs": [],
   "source": [
    "# lemma[0]"
   ]
  },
  {
   "cell_type": "code",
   "execution_count": 74,
   "metadata": {
    "collapsed": true
   },
   "outputs": [],
   "source": [
    "EMBEDDING_DIM = 100\n",
    "HIDDEN_DIM = 100\n",
    "rnn = RNN(EMBEDDING_DIM, HIDDEN_DIM, len(vocab))\n",
    "criterion = nn.NLLLoss()\n",
    "learning_rate = 0.00005"
   ]
  },
  {
   "cell_type": "code",
   "execution_count": null,
   "metadata": {},
   "outputs": [
    {
     "name": "stdout",
     "output_type": "stream",
     "text": [
      "I got a KeyError - reason \"'02:28:01'\"\n",
      "I got a KeyError - reason \"'02:28:01'\"\n",
      "I got a KeyError - reason \"'06:28:01'\"\n",
      "I got a KeyError - reason \"'06:28:01'\"\n",
      "I got a KeyError - reason \"'69,197'\"\n",
      "I got a KeyError - reason \"'69,197'\"\n",
      "I got a KeyError - reason \"'18,222'\"\n",
      "I got a KeyError - reason \"'18,222'\"\n"
     ]
    }
   ],
   "source": [
    "hidden = rnn.initHidden()\n",
    "loss = 0.0\n",
    "for sentence in lemma[:1]:\n",
    "    for i in range(len(sentence) - 1):\n",
    "        try: # -- get rid of digits in vocab\n",
    "            current_word = sentence[i]\n",
    "            current_index = vocab[current_word]\n",
    "            current_embedding = torch.from_numpy(embeddings[current_index]).unsqueeze(0)\n",
    "            vembedding = Variable(current_embedding)\n",
    "            next_word = torch.from_numpy(np.array([vocab[sentence[i+1]]]))\n",
    "            output, hidden = rnn(vembedding, hidden)\n",
    "\n",
    "            loss += criterion(output, Variable(next_word))\n",
    "\n",
    "        except KeyError as e:\n",
    "            print('I got a KeyError - reason \"%s\"' % str(e))\n",
    "\n",
    "loss.backward()\n",
    "for p in rnn.parameters():\n",
    "    p.data.add_(-learning_rate, p.grad.data)"
   ]
  },
  {
   "cell_type": "code",
   "execution_count": null,
   "metadata": {},
   "outputs": [],
   "source": []
  },
  {
   "cell_type": "code",
   "execution_count": null,
   "metadata": {},
   "outputs": [],
   "source": []
  }
 ],
 "metadata": {
  "kernelspec": {
   "display_name": "Python 3 (local)",
   "language": "python",
   "name": "python3"
  },
  "language_info": {
   "codemirror_mode": {
    "name": "ipython",
    "version": 3
   },
   "file_extension": ".py",
   "mimetype": "text/x-python",
   "name": "python",
   "nbconvert_exporter": "python",
   "pygments_lexer": "ipython3",
   "version": "3.5.2"
  }
 },
 "nbformat": 4,
 "nbformat_minor": 2
}
