{
 "cells": [
  {
   "cell_type": "code",
   "execution_count": 29,
   "metadata": {
    "collapsed": true
   },
   "outputs": [],
   "source": [
    "import numpy as np\n",
    "import pandas as pd\n",
    "import sys, glob, spacy, pickle, re"
   ]
  },
  {
   "cell_type": "code",
   "execution_count": 7,
   "metadata": {},
   "outputs": [],
   "source": [
    "nlp = spacy.load('en')"
   ]
  },
  {
   "cell_type": "code",
   "execution_count": 25,
   "metadata": {
    "collapsed": true
   },
   "outputs": [],
   "source": [
    "paths = glob.glob('../../data/articles/*')"
   ]
  },
  {
   "cell_type": "code",
   "execution_count": null,
   "metadata": {},
   "outputs": [],
   "source": [
    "# -- new sentencizer\n",
    "total = []\n",
    "for i in paths:\n",
    "    doc = ''\n",
    "    with open(i) as infile:\n",
    "        for rownum, row in enumerate(infile):\n",
    "            if rownum == 0:\n",
    "                row = row[3:]\n",
    "            doc += row\n",
    "    sdoc = nlp(doc)\n",
    "    for sentnum, sent in enumerate(sdoc.sents):\n",
    "        sentence = ''.join(sdoc[i].string for i in range(sent.start, sent.end)).lower()\n",
    "        sentence_lower = re.sub('\\d', 'N', sentence) # replace digits\n",
    "        sentence_punc = re.sub(r\"[,.;@#?!&{}\\'\\\"\\[\\]()]+\", '', sentence_lower).replace('-', ' ') # remove punc\n",
    "        nsent = nlp(sentence_punc)\n",
    "        lem = ' '.join([i.lemma_.strip() for i in nsent]).split()\n",
    "        if len(lem) > 3:\n",
    "            total.append(lem)\n",
    "        "
   ]
  },
  {
   "cell_type": "code",
   "execution_count": 8,
   "metadata": {},
   "outputs": [],
   "source": [
    "# -- save lemmas as pickle\n",
    "with open('../../data/lemmas.pickle', 'wb') as f:\n",
    "    pickle.dump(total, f)"
   ]
  },
  {
   "cell_type": "code",
   "execution_count": null,
   "metadata": {
    "collapsed": true
   },
   "outputs": [],
   "source": []
  }
 ],
 "metadata": {
  "kernelspec": {
   "display_name": "Python 3",
   "language": "python",
   "name": "python3"
  },
  "language_info": {
   "codemirror_mode": {
    "name": "ipython",
    "version": 3
   },
   "file_extension": ".py",
   "mimetype": "text/x-python",
   "name": "python",
   "nbconvert_exporter": "python",
   "pygments_lexer": "ipython3",
   "version": "3.5.2"
  }
 },
 "nbformat": 4,
 "nbformat_minor": 2
}
