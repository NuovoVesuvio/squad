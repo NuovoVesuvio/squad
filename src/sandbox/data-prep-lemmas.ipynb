{
 "cells": [
  {
   "cell_type": "code",
   "execution_count": 41,
   "metadata": {
    "collapsed": true
   },
   "outputs": [],
   "source": [
    "import numpy as np\n",
    "import pandas as pd\n",
    "import sys, glob, spacy, pickle"
   ]
  },
  {
   "cell_type": "code",
   "execution_count": 2,
   "metadata": {
    "collapsed": true
   },
   "outputs": [],
   "source": [
    "paths = glob.glob('../../data/articles/*')"
   ]
  },
  {
   "cell_type": "code",
   "execution_count": null,
   "metadata": {},
   "outputs": [],
   "source": [
    "# -- concatenate all the articles into one file\n",
    "with open('../../data/concatenated.txt', 'w') as outfile:\n",
    "    for fname in paths:\n",
    "        with open(fname) as infile:\n",
    "            text0 = infile.read().split('||')\n",
    "            text1 = [i.replace('\\n', ' ') for i in text0]\n",
    "            newtext = ' '.join(text1)\n",
    "            outfile.write(newtext)\n",
    "    outfile.close()"
   ]
  },
  {
   "cell_type": "code",
   "execution_count": 3,
   "metadata": {},
   "outputs": [],
   "source": [
    "# -- extract the lemmes using Spacy\n",
    "nlp = spacy.load('en')"
   ]
  },
  {
   "cell_type": "code",
   "execution_count": 15,
   "metadata": {},
   "outputs": [],
   "source": [
    "data = ''\n",
    "with open('../../data/concatenated.txt') as b:\n",
    "    for row in b:\n",
    "        data += row.lower()\n",
    "data0 = data.split('. ')"
   ]
  },
  {
   "cell_type": "code",
   "execution_count": 37,
   "metadata": {},
   "outputs": [],
   "source": [
    "total = []\n",
    "for sent in data0:\n",
    "    try:\n",
    "        lem = [i.lemma_ for i in nlp(sent)]\n",
    "        if len(lem) != 0:\n",
    "            total.append(lem)\n",
    "    except:\n",
    "        print(sent)"
   ]
  },
  {
   "cell_type": "code",
   "execution_count": 38,
   "metadata": {},
   "outputs": [
    {
     "data": {
      "text/plain": [
       "92784"
      ]
     },
     "execution_count": 38,
     "metadata": {},
     "output_type": "execute_result"
    }
   ],
   "source": [
    "len(total)"
   ]
  },
  {
   "cell_type": "code",
   "execution_count": 43,
   "metadata": {},
   "outputs": [],
   "source": [
    "# -- save lemmas as pickle\n",
    "with open('../../data/lemmas.pickle', 'wb') as f:\n",
    "    pickle.dump(total, f)"
   ]
  },
  {
   "cell_type": "code",
   "execution_count": null,
   "metadata": {
    "collapsed": true
   },
   "outputs": [],
   "source": []
  }
 ],
 "metadata": {
  "kernelspec": {
   "display_name": "Python 3 (local)",
   "language": "python",
   "name": "python3"
  },
  "language_info": {
   "codemirror_mode": {
    "name": "ipython",
    "version": 3
   },
   "file_extension": ".py",
   "mimetype": "text/x-python",
   "name": "python",
   "nbconvert_exporter": "python",
   "pygments_lexer": "ipython3",
   "version": "3.5.2"
  }
 },
 "nbformat": 4,
 "nbformat_minor": 2
}
