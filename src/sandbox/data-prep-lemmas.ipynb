{
 "cells": [
  {
   "cell_type": "code",
   "execution_count": 41,
   "metadata": {
    "collapsed": true
   },
   "outputs": [],
   "source": [
    "import numpy as np\n",
    "import pandas as pd\n",
    "import sys, glob, spacy, pickle"
   ]
  },
  {
   "cell_type": "code",
   "execution_count": 2,
   "metadata": {
    "collapsed": true
   },
   "outputs": [],
   "source": [
    "paths = glob.glob('../../data/articles/*')"
   ]
  },
  {
   "cell_type": "code",
   "execution_count": null,
   "metadata": {},
   "outputs": [],
   "source": [
    "# -- concatenate all the articles into one file\n",
    "with open('../../data/concatenated.txt', 'w') as outfile:\n",
    "    for fname in paths:\n",
    "        with open(fname) as infile:\n",
    "            text0 = infile.read().split('||')\n",
    "            text1 = [i.replace('\\n', ' ') for i in text0]\n",
    "            newtext = ' '.join(text1)\n",
    "            outfile.write(newtext)\n",
    "    outfile.close()"
   ]
  },
  {
   "cell_type": "code",
   "execution_count": 3,
   "metadata": {},
   "outputs": [],
   "source": [
    "# -- extract the lemmes using Spacy\n",
    "nlp = spacy.load('en')"
   ]
  },
  {
   "cell_type": "code",
   "execution_count": 15,
   "metadata": {},
   "outputs": [],
   "source": [
    "data = ''\n",
    "with open('../../data/concatenated.txt') as b:\n",
    "    for row in b:\n",
    "        data += row.lower()\n",
    "data0 = data.split('. ')"
   ]
  },
  {
   "cell_type": "code",
   "execution_count": 37,
   "metadata": {},
   "outputs": [],
   "source": [
    "total = []\n",
    "for sent in data0:\n",
    "    try:\n",
    "        lem = [i.lemma_ for i in nlp(sent)]\n",
    "        if len(lem) != 0:\n",
    "            total.append(lem)\n",
    "    except:\n",
    "        print(sent)"
   ]
  },
  {
   "cell_type": "code",
   "execution_count": 38,
   "metadata": {},
   "outputs": [
    {
     "data": {
      "text/plain": [
       "92784"
      ]
     },
     "execution_count": 38,
     "metadata": {},
     "output_type": "execute_result"
    }
   ],
   "source": [
    "len(total)"
   ]
  },
  {
   "cell_type": "code",
   "execution_count": 43,
   "metadata": {},
   "outputs": [],
   "source": [
    "# -- save lemmas as pickle\n",
    "with open('../../data/lemmas.pickle', 'wb') as f:\n",
    "    pickle.dump(total, f)"
   ]
  },
  {
   "cell_type": "code",
   "execution_count": 40,
   "metadata": {},
   "outputs": [
    {
     "data": {
      "text/plain": [
       "['the',\n",
       " '2008',\n",
       " 'sichuan',\n",
       " 'earthquake',\n",
       " 'or',\n",
       " 'the',\n",
       " 'great',\n",
       " 'sichuan',\n",
       " 'earthquake',\n",
       " ',',\n",
       " 'measure',\n",
       " 'at',\n",
       " '8.0',\n",
       " 'm',\n",
       " 'and',\n",
       " '7.9',\n",
       " 'mw',\n",
       " ',',\n",
       " 'and',\n",
       " 'occur',\n",
       " 'at',\n",
       " '02:28:01',\n",
       " 'pm',\n",
       " 'china',\n",
       " 'standard',\n",
       " 'time',\n",
       " 'at',\n",
       " 'epicenter',\n",
       " '(',\n",
       " '06:28:01',\n",
       " 'utc',\n",
       " ')',\n",
       " 'on',\n",
       " 'may',\n",
       " '12',\n",
       " 'in',\n",
       " 'sichuan',\n",
       " 'province',\n",
       " ',',\n",
       " 'kill',\n",
       " '69,197',\n",
       " 'people',\n",
       " 'and',\n",
       " 'leave',\n",
       " '18,222',\n",
       " 'miss']"
      ]
     },
     "execution_count": 40,
     "metadata": {},
     "output_type": "execute_result"
    }
   ],
   "source": [
    "total[0]"
   ]
  },
  {
   "cell_type": "code",
   "execution_count": 24,
   "metadata": {},
   "outputs": [
    {
     "name": "stdout",
     "output_type": "stream",
     "text": [
      "the the\n",
      "2008 2008\n",
      "sichuan sichuan\n",
      "earthquake earthquake\n",
      "or or\n",
      "the the\n",
      "great great\n",
      "sichuan sichuan\n",
      "earthquake earthquake\n",
      ", ,\n",
      "measured measure\n",
      "at at\n",
      "8.0 8.0\n",
      "ms m\n",
      "and and\n",
      "7.9 7.9\n",
      "mw mw\n",
      ", ,\n",
      "and and\n",
      "occurred occur\n",
      "at at\n",
      "02:28:01 02:28:01\n",
      "pm pm\n",
      "china china\n",
      "standard standard\n",
      "time time\n",
      "at at\n",
      "epicenter epicenter\n",
      "( (\n",
      "06:28:01 06:28:01\n",
      "utc utc\n",
      ") )\n",
      "on on\n",
      "may may\n",
      "12 12\n",
      "in in\n",
      "sichuan sichuan\n",
      "province province\n",
      ", ,\n",
      "killed kill\n",
      "69,197 69,197\n",
      "people people\n",
      "and and\n",
      "left leave\n",
      "18,222 18,222\n",
      "missing miss\n"
     ]
    }
   ],
   "source": [
    "for i in sentence:\n",
    "    print(i, i.lemma_)"
   ]
  },
  {
   "cell_type": "code",
   "execution_count": null,
   "metadata": {
    "collapsed": true
   },
   "outputs": [],
   "source": [
    "sentences = gen'../../data/concatenated.txt'\n",
    "\n",
    "model = word2vec.lWord2Vec(sentences=sentences, size=100, negative=10, window=5, min_count=5)"
   ]
  },
  {
   "cell_type": "code",
   "execution_count": null,
   "metadata": {},
   "outputs": [],
   "source": [
    "model.train(sentences)"
   ]
  },
  {
   "cell_type": "code",
   "execution_count": null,
   "metadata": {},
   "outputs": [],
   "source": [
    "newtext"
   ]
  },
  {
   "cell_type": "code",
   "execution_count": null,
   "metadata": {
    "collapsed": true
   },
   "outputs": [],
   "source": []
  }
 ],
 "metadata": {
  "kernelspec": {
   "display_name": "Python 3 (local)",
   "language": "python",
   "name": "python3"
  },
  "language_info": {
   "codemirror_mode": {
    "name": "ipython",
    "version": 3
   },
   "file_extension": ".py",
   "mimetype": "text/x-python",
   "name": "python",
   "nbconvert_exporter": "python",
   "pygments_lexer": "ipython3",
   "version": "3.5.2"
  }
 },
 "nbformat": 4,
 "nbformat_minor": 2
}
